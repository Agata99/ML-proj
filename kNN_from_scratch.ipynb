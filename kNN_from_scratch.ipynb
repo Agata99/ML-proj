{
 "cells": [
  {
   "cell_type": "markdown",
   "id": "72d4720c",
   "metadata": {},
   "source": [
    "## K-Nearest neighbors algorithm\n",
    "This algorithm is a supervised learning method for classification and regression which gets label based on similarity.\n",
    "\n",
    "KNN assumption:\n",
    "\n",
    "- data points which exist in close proximity are similar but when are far from eachother then show dissimilarity \n",
    "\n",
    "Steps of algorithm\n",
    "1. We have a point that we want to classify - query\n",
    "2. We calculate the distance between this query and all of the data points\n",
    "3. We sort all distances and take the k points referring to k smallest distances\n",
    "4. For regression we calculate the mean, for classification - mode, of this k points"
   ]
  },
  {
   "cell_type": "code",
   "execution_count": 132,
   "id": "e60d35f9",
   "metadata": {},
   "outputs": [],
   "source": [
    "import numpy as np\n",
    "import pandas as pd\n",
    "import sklearn as skl\n",
    "from scipy import stats as st"
   ]
  },
  {
   "cell_type": "markdown",
   "id": "8e169b41",
   "metadata": {},
   "source": [
    "## Implementation of algorithm"
   ]
  },
  {
   "cell_type": "code",
   "execution_count": 128,
   "id": "7f0c1a0b",
   "metadata": {},
   "outputs": [],
   "source": [
    "def euclidean_dist(vec1,vec2):\n",
    "    '''\n",
    "     Function calculate the euclidean distance between two vectors.\n",
    "    '''\n",
    "    sum_of_squares=0\n",
    "    for i in range(0,len(vec1)):\n",
    "        sum_of_squares+=(vec1[i]-vec2[i])**2\n",
    "    return np.sqrt(sum_of_squares)\n",
    "\n",
    "def knn(data,query,k,dist=euclidean_dist,regression=True):\n",
    "    '''\n",
    "    Function based on k-nearest neighborhood algorithm solve regression and classification tasks.\n",
    "    Inputs: data in data frame or matrix, query as a list, k  number of nearest neighbors, \n",
    "    dist distance function, regression if true function solve regression problem  otherwise classification problem. \n",
    "    '''\n",
    "    index_neighbour_distance = []\n",
    "\n",
    "    #Calculate distance between query point and every other point in the data\n",
    "    for index, coordinate in enumerate(data.values):\n",
    "        distance=dist(coordinate[:-1],query)\n",
    "        index_neighbour_distance.append((distance,index)) # add calculated distances and indexes to the list\n",
    "\n",
    "    sorted_neighbour_distance=sorted(index_neighbour_distance) # sort neighbor distances in ascending order\n",
    "    result = [data.values[i][-1] for x,i in sorted_neighbour_distance[:k]] # take k nearest points and read their labels\n",
    "    \n",
    "    # for regression we choose the mean of the result and for classification we take mode\n",
    "    if regression == True:\n",
    "        return np.mean(result)\n",
    "    else:\n",
    "        return st.mode(result)[0][0]\n"
   ]
  },
  {
   "cell_type": "markdown",
   "id": "9383386d",
   "metadata": {},
   "source": [
    "## Dataset\n",
    "This dataset is a part of bigger dataset however I took from the original data only seven principal components (which let me save 90% of variability) and labels."
   ]
  },
  {
   "cell_type": "code",
   "execution_count": 137,
   "id": "5f8d6791",
   "metadata": {},
   "outputs": [
    {
     "data": {
      "text/html": [
       "<div>\n",
       "<style scoped>\n",
       "    .dataframe tbody tr th:only-of-type {\n",
       "        vertical-align: middle;\n",
       "    }\n",
       "\n",
       "    .dataframe tbody tr th {\n",
       "        vertical-align: top;\n",
       "    }\n",
       "\n",
       "    .dataframe thead th {\n",
       "        text-align: right;\n",
       "    }\n",
       "</style>\n",
       "<table border=\"1\" class=\"dataframe\">\n",
       "  <thead>\n",
       "    <tr style=\"text-align: right;\">\n",
       "      <th></th>\n",
       "      <th>pc1</th>\n",
       "      <th>pc2</th>\n",
       "      <th>pc3</th>\n",
       "      <th>pc4</th>\n",
       "      <th>pc5</th>\n",
       "      <th>pc6</th>\n",
       "      <th>pc7</th>\n",
       "      <th>diagnosis</th>\n",
       "    </tr>\n",
       "  </thead>\n",
       "  <tbody>\n",
       "    <tr>\n",
       "      <th>0</th>\n",
       "      <td>9.192837</td>\n",
       "      <td>1.948583</td>\n",
       "      <td>-1.123166</td>\n",
       "      <td>3.633731</td>\n",
       "      <td>-1.195110</td>\n",
       "      <td>1.411424</td>\n",
       "      <td>2.159370</td>\n",
       "      <td>1</td>\n",
       "    </tr>\n",
       "    <tr>\n",
       "      <th>1</th>\n",
       "      <td>2.387802</td>\n",
       "      <td>-3.768172</td>\n",
       "      <td>-0.529293</td>\n",
       "      <td>1.118264</td>\n",
       "      <td>0.621775</td>\n",
       "      <td>0.028656</td>\n",
       "      <td>0.013358</td>\n",
       "      <td>1</td>\n",
       "    </tr>\n",
       "    <tr>\n",
       "      <th>2</th>\n",
       "      <td>5.733896</td>\n",
       "      <td>-1.075174</td>\n",
       "      <td>-0.551748</td>\n",
       "      <td>0.912083</td>\n",
       "      <td>-0.177086</td>\n",
       "      <td>0.541452</td>\n",
       "      <td>-0.668166</td>\n",
       "      <td>1</td>\n",
       "    </tr>\n",
       "    <tr>\n",
       "      <th>3</th>\n",
       "      <td>7.122953</td>\n",
       "      <td>10.275589</td>\n",
       "      <td>-3.232790</td>\n",
       "      <td>0.152547</td>\n",
       "      <td>-2.960878</td>\n",
       "      <td>3.053422</td>\n",
       "      <td>1.429911</td>\n",
       "      <td>1</td>\n",
       "    </tr>\n",
       "    <tr>\n",
       "      <th>4</th>\n",
       "      <td>3.935302</td>\n",
       "      <td>-1.948072</td>\n",
       "      <td>1.389767</td>\n",
       "      <td>2.940639</td>\n",
       "      <td>0.546747</td>\n",
       "      <td>-1.226495</td>\n",
       "      <td>-0.936213</td>\n",
       "      <td>1</td>\n",
       "    </tr>\n",
       "  </tbody>\n",
       "</table>\n",
       "</div>"
      ],
      "text/plain": [
       "        pc1        pc2       pc3       pc4       pc5       pc6       pc7  \\\n",
       "0  9.192837   1.948583 -1.123166  3.633731 -1.195110  1.411424  2.159370   \n",
       "1  2.387802  -3.768172 -0.529293  1.118264  0.621775  0.028656  0.013358   \n",
       "2  5.733896  -1.075174 -0.551748  0.912083 -0.177086  0.541452 -0.668166   \n",
       "3  7.122953  10.275589 -3.232790  0.152547 -2.960878  3.053422  1.429911   \n",
       "4  3.935302  -1.948072  1.389767  2.940639  0.546747 -1.226495 -0.936213   \n",
       "\n",
       "   diagnosis  \n",
       "0          1  \n",
       "1          1  \n",
       "2          1  \n",
       "3          1  \n",
       "4          1  "
      ]
     },
     "execution_count": 137,
     "metadata": {},
     "output_type": "execute_result"
    }
   ],
   "source": [
    "data = pd.read_csv('data_pca_cancer',sep=';')\n",
    "data =data.iloc[:,1:]\n",
    "data.head()"
   ]
  },
  {
   "cell_type": "markdown",
   "id": "01ecaf29",
   "metadata": {},
   "source": [
    "Splitting the into test and train set in order to measure the accuracy of given algorithm."
   ]
  },
  {
   "cell_type": "code",
   "execution_count": 138,
   "id": "056ca0d3",
   "metadata": {},
   "outputs": [],
   "source": [
    "import sklearn.model_selection\n",
    "X_train,X_test,y_train,y_test = sklearn.model_selection.\\\n",
    "    train_test_split(data.iloc[:,:7],data['diagnosis'],test_size=0.2)\n",
    "X_train['diagnosis']=y_train\n"
   ]
  },
  {
   "cell_type": "markdown",
   "id": "16e68751",
   "metadata": {},
   "source": [
    "## Prediction"
   ]
  },
  {
   "cell_type": "code",
   "execution_count": 139,
   "id": "773f3a99",
   "metadata": {},
   "outputs": [],
   "source": [
    "prediction=[]\n",
    "for i in range(len(X_test)):\n",
    "    prediction.append(knn(data=X_train, query=X_test.iloc[i,:], k=5, dist=euclidean_dist,regression=False))"
   ]
  },
  {
   "cell_type": "code",
   "execution_count": 142,
   "id": "48faee3c",
   "metadata": {},
   "outputs": [
    {
     "name": "stdout",
     "output_type": "stream",
     "text": [
      "[[72  1]\n",
      " [ 1 40]]\n"
     ]
    }
   ],
   "source": [
    "print(skl.metrics.confusion_matrix(prediction,y_test))"
   ]
  },
  {
   "cell_type": "code",
   "execution_count": 145,
   "id": "cd58470c",
   "metadata": {},
   "outputs": [
    {
     "data": {
      "text/plain": [
       "0.9824561403508771"
      ]
     },
     "execution_count": 145,
     "metadata": {},
     "output_type": "execute_result"
    }
   ],
   "source": [
    "accuracy=112/114\n",
    "accuracy"
   ]
  },
  {
   "cell_type": "code",
   "execution_count": 141,
   "id": "1b66fc39",
   "metadata": {},
   "outputs": [
    {
     "name": "stdout",
     "output_type": "stream",
     "text": [
      "              precision    recall  f1-score   support\n",
      "\n",
      "           0       0.99      0.99      0.99        73\n",
      "           1       0.98      0.98      0.98        41\n",
      "\n",
      "    accuracy                           0.98       114\n",
      "   macro avg       0.98      0.98      0.98       114\n",
      "weighted avg       0.98      0.98      0.98       114\n",
      "\n"
     ]
    }
   ],
   "source": [
    "print(skl.metrics.classification_report(y_test,prediction))"
   ]
  },
  {
   "cell_type": "markdown",
   "id": "5150ff8c",
   "metadata": {},
   "source": [
    "##  Conclusions\n",
    "All of metrics are pretty high, about 98-99%, therefore we can assume that algorithm performed quite well."
   ]
  },
  {
   "cell_type": "markdown",
   "id": "5d246317",
   "metadata": {},
   "source": [
    "#  Remark\n",
    "Since I still have been learning and I want to improve my coding and machine learning skills I would be grateful for any feedback and advice.\n",
    "\n",
    "14.07.2022"
   ]
  }
 ],
 "metadata": {
  "kernelspec": {
   "display_name": "Python 3",
   "language": "python",
   "name": "python3"
  },
  "language_info": {
   "codemirror_mode": {
    "name": "ipython",
    "version": 3
   },
   "file_extension": ".py",
   "mimetype": "text/x-python",
   "name": "python",
   "nbconvert_exporter": "python",
   "pygments_lexer": "ipython3",
   "version": "3.8.8"
  }
 },
 "nbformat": 4,
 "nbformat_minor": 5
}
